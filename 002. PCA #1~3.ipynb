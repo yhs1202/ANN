{
 "cells": [
  {
   "attachments": {},
   "cell_type": "markdown",
   "metadata": {},
   "source": [
    "PCA #1\n",
    "\n",
    "Google Colab"
   ]
  },
  {
   "attachments": {},
   "cell_type": "markdown",
   "metadata": {},
   "source": [
    "PCA #2"
   ]
  },
  {
   "cell_type": "code",
   "execution_count": null,
   "metadata": {},
   "outputs": [],
   "source": [
    "import numpy as np\n",
    "# 1\n",
    "a = np.arange(1,9).reshape(2, 4)\n",
    "b = np.arange(11, 15)\n",
    "array = np.vstack((a, b))\n",
    "print(array)\n",
    "\n",
    "# 2\n",
    "print(array[1][2])\n",
    "\n",
    "# 3\n",
    "print(array[::2])"
   ]
  },
  {
   "attachments": {},
   "cell_type": "markdown",
   "metadata": {},
   "source": [
    "PCA #3\n",
    "\n",
    "Linux Command"
   ]
  }
 ],
 "metadata": {
  "language_info": {
   "name": "python"
  },
  "orig_nbformat": 4
 },
 "nbformat": 4,
 "nbformat_minor": 2
}
