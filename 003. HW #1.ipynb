{
 "cells": [
  {
   "attachments": {},
   "cell_type": "markdown",
   "metadata": {},
   "source": [
    "Prob #1.\n",
    "\n",
    "우선 참고자료에 제시된 pseudo-code 대로 차근차근 구성했습니다.\n",
    "\n",
    "np.ones() 를 사용해 1로 구성된 배열을 생성 하였고, 0번째 element(1) 의 값을 0으로 하였습니다.\n",
    "\n",
    "i가 2부터 시작하여 i의 배수로 나누기 때문에 첫 번째 for문의 range는 50으로 설정하였고 두 번째 for문의 j의 range의 간격을 i로 설정하여 불필요한 연산을 하지 않도록 하였습니다.\n",
    "\n",
    "1로 바꾸는 과정이 끝난 list를 printIndex 함수를 사용하여 1인 element를 가지는 index(소수번째 index)만을 출력시켜 문제를 해결했습니다."
   ]
  },
  {
   "cell_type": "code",
   "execution_count": 118,
   "metadata": {},
   "outputs": [
    {
     "name": "stdout",
     "output_type": "stream",
     "text": [
      "2, 3, 5, 7, 11, 13, 17, 19, 23, 29, 31, 37, 41, 43, 47, 53, 59, 61, 67, 71, 73, 79, 83, 89, 97\n"
     ]
    }
   ],
   "source": [
    "import numpy as np\n",
    "\n",
    "# Print index number of list element which is 1\n",
    "def printIndex(list):\n",
    "    for i in range(len(list)):\n",
    "        if list[i] != 0:\n",
    "            print(i+1, end=\", \")\n",
    "    print(\"\\b\\b\")    \n",
    "\n",
    "\n",
    "check = np.ones(100)\n",
    "check[0] = 0\n",
    "for i in range(2, 51):\n",
    "    # print(\"i=\",i)\n",
    "    if check[i-1] == 1:    \n",
    "        for j in range(2*i, 101, i):\n",
    "            if j%i == 0:\n",
    "                # print(j, \"th element => 0\")\n",
    "                check[j-1] = 0\n",
    "    # print(\"i loop fin\")\n",
    "\n",
    "# print(check)\n",
    "\n",
    "printIndex(check)\n"
   ]
  },
  {
   "cell_type": "code",
   "execution_count": 119,
   "metadata": {},
   "outputs": [
    {
     "name": "stdout",
     "output_type": "stream",
     "text": [
      "[2, 3, 5, 7, 11, 13, 17, 19, 23, 29, 31, 37, 41, 43, 47, 53, 59, 61, 67, 71, 73, 79, 83, 89, 97]\n"
     ]
    }
   ],
   "source": [
    "## Another Sol    \n",
    "num = list(range(2, 101))\n",
    "prime_num = []\n",
    "for i in num:\n",
    "    if i not in prime_num:\n",
    "        prime_num.append(i)\n",
    "        for j in num:\n",
    "            if j != i and j % i == 0:\n",
    "                num.remove(j)\n",
    "# print(num)\n",
    "print(prime_num)"
   ]
  },
  {
   "attachments": {},
   "cell_type": "markdown",
   "metadata": {},
   "source": [
    "Prob #2.\n",
    "\n",
    "앞서 진행했던 PCA #1은 숫자간의 구분자가 공백이였지만 현재 주어진 hw1.csv 파일의 경우 구분자가 콤마(\",\") 로 되어있기 때문에 loadtxt 메소드의 parameter 값에 \",\" 를 추가해 올바르게 읽어올 수 있도록 하였습니다.\n",
    "\n",
    "각각의 행과 열의 element의 합을 찾아야 하는 것이 목표이므로, 행의 합만 구하는 알고리즘을 만든 후, 원래의 array에 Transpose를 취하고 동일한 과정을 거쳐 열의 합도 구할 수 있도록 하였습니다.\n",
    "\n",
    "올바르게 Transpose가 되었는지를 확인하기 위해 array instance에 shape 메소드를 사용하였으며, 기존 10x7 array 에서 7x10 array로 바뀐 점을 확인했습니다.\n",
    "\n",
    "또한 numpy 내장함수 sum 에 있는 axis parameter를 가지고도 행과 열의 합을 구할 수 있는 것을 확인했습니다."
   ]
  },
  {
   "cell_type": "code",
   "execution_count": 121,
   "metadata": {},
   "outputs": [
    {
     "name": "stdout",
     "output_type": "stream",
     "text": [
      "[3.80016, 3.260285, 4.1367899999999995, 4.035811, 3.4052819999999997, 3.76804, 4.09077, 3.2972700000000006, 4.79934, 3.3660259999999997]\n",
      "[6.23856, 6.602119999999999, 5.873082, 3.9781619999999998, 5.6136, 4.5000100000000005, 5.154240000000001]\n",
      "Using sum()\n",
      "[3.80016  3.260285 4.13679  4.035811 3.405282 3.76804  4.09077  3.29727\n",
      " 4.79934  3.366026]\n",
      "[6.23856  6.60212  5.873082 3.978162 5.6136   4.50001  5.15424 ]\n"
     ]
    }
   ],
   "source": [
    "import numpy as np\n",
    "\n",
    "data = np.loadtxt(\"/Users/hsyoon/Desktop/ANN/hw1.csv\", delimiter=\",\")\n",
    "# print(data)\n",
    "# print(data.shape)\n",
    "\n",
    "data_T = np.transpose(data)\n",
    "# data_T = data.T\n",
    "# print(data_T)\n",
    "# print(data_T.shape)\n",
    "\n",
    "\n",
    "# row_sum\n",
    "print([sum(row) for row in data])\n",
    "\n",
    "# col_sum\n",
    "print([sum(col) for col in data_T])\n",
    "\n",
    "# Using numpy library functions\n",
    "print(\"Using sum()\")\n",
    "print(data.sum(axis=1))\n",
    "print(data.sum(axis=0))"
   ]
  }
 ],
 "metadata": {
  "kernelspec": {
   "display_name": "tf",
   "language": "python",
   "name": "python3"
  },
  "language_info": {
   "name": "python",
   "version": "3.10.9"
  },
  "orig_nbformat": 4
 },
 "nbformat": 4,
 "nbformat_minor": 2
}
