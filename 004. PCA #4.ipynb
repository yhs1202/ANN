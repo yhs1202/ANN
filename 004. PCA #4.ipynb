{
 "cells": [
  {
   "cell_type": "code",
   "execution_count": 17,
   "metadata": {},
   "outputs": [
    {
     "name": "stdout",
     "output_type": "stream",
     "text": [
      "Case 1\n"
     ]
    },
    {
     "name": "stderr",
     "output_type": "stream",
     "text": [
      "2023-03-26 21:14:33.315053: I tensorflow/core/grappler/optimizers/custom_graph_optimizer_registry.cc:113] Plugin optimizer for device_type GPU is enabled.\n"
     ]
    },
    {
     "name": "stdout",
     "output_type": "stream",
     "text": [
      "After Learning:\n",
      "Targets:  [5 7 9]\n",
      "1/1 [==============================] - 0s 24ms/step\n",
      "Predictions:  [4.9557104 6.9236617 8.891613 ]\n",
      "[array([[1.9679514]], dtype=float32), array([1.0198075], dtype=float32)]\n",
      "Case 2\n"
     ]
    },
    {
     "name": "stderr",
     "output_type": "stream",
     "text": [
      "2023-03-26 21:14:39.192446: I tensorflow/core/grappler/optimizers/custom_graph_optimizer_registry.cc:113] Plugin optimizer for device_type GPU is enabled.\n"
     ]
    },
    {
     "name": "stdout",
     "output_type": "stream",
     "text": [
      "After Learning:\n",
      "Targets:  [5 7 9]\n",
      "1/1 [==============================] - 0s 9ms/step\n",
      "Predictions:  [4.9999986 6.985665  8.971332 ]\n",
      "[array([[1.9856666]], dtype=float32), array([1.0286652], dtype=float32)]\n",
      "Case 3\n",
      "After Learning:\n",
      "Targets:  [5 7 9]\n",
      "1/1 [==============================] - 0s 10ms/step\n",
      "Predictions:  [4.978505 6.957007 8.93551 ]\n",
      "[array([[1.9785022]], dtype=float32), array([1.0215007], dtype=float32)]\n",
      "Case 4\n",
      "After Learning:\n",
      "Targets:  [5 7 9]\n",
      "1/1 [==============================] - 0s 11ms/step\n",
      "Predictions:  [4.9570074 6.935509  8.914012 ]\n",
      "[array([[1.9785022]], dtype=float32), array([1.000003], dtype=float32)]\n"
     ]
    }
   ],
   "source": [
    "# import tensorflow.keras as keras\n",
    "import tensorflow as tf\n",
    "import numpy as np\n",
    "\n",
    "# generating examples (samples)\n",
    "x = np.array([0, 1, 2, 3, 4])\n",
    "y = x*2 + 1\n",
    "\n",
    "# training and prediction function on given samples\n",
    "def train_and_predict(x_input, y_input, epo):\n",
    "\n",
    "    # generating examples (samples)\n",
    "    x = np.array([0, 1, 2, 3, 4])\n",
    "    y = x*2 + 1\n",
    "\n",
    "    # generating neural network modeling\n",
    "    model = tf.keras.models.Sequential()\n",
    "    model.add(tf.keras.layers.Dense(1, input_shape=(1,)))\n",
    "    model.compile('SGD', 'mse', metrics=['accuracy'])\n",
    "\n",
    "    # # before learning\n",
    "    # print('Before Learning:')\n",
    "    # print('Targets: ', y[2:])\n",
    "    # print('Predictions: ', model.predict(x[2:]).flatten())\n",
    "    # print(model.get_weights())\n",
    "    \n",
    "    # after training\n",
    "    model.fit(x_input, y_input, epochs=epo, verbose=0)\n",
    "    print('After Learning:')\n",
    "    print('Targets: ', y[2:])\n",
    "    print('Predictions: ', model.predict(x[2:]).flatten())\n",
    "    print(model.get_weights())\n",
    "\n",
    "\n",
    "\n",
    "# training with two samples (original case)\n",
    "print(\"Case 1\")\n",
    "train_and_predict(x[:2], y[:2], 1000)\n",
    "\n",
    "# training with one samples_1 (x, y) = (2, 2*2+1) = (2, 5)\n",
    "print(\"Case 2\")\n",
    "train_and_predict(np.array([x[2]]), np.array([y[2]]), 2000)\n",
    "\n",
    "# training with one samples_2 (x, y) = (1, 2*1+1) = (1, 3)\n",
    "print(\"Case 3\")\n",
    "train_and_predict(np.array([x[1]]), np.array([y[1]]), 2000)\n",
    "\n",
    "# training with one samples_3 (x, y) = (0, 2*0+1) = (0, 1)\n",
    "print(\"Case 4\")\n",
    "train_and_predict(np.array([x[0]]), np.array([y[0]]), 2000)"
   ]
  },
  {
   "attachments": {},
   "cell_type": "markdown",
   "metadata": {},
   "source": [
    "한개의 input을 여러 경우로 반복적으로 학습시켜보기 위해서 이미 제시된 sample과 model에 input 값만을 parameter로 받아 training 하는 함수 train_and_predict()를 새롭게 정의했습니다. (training 전의 prediction statement는 무의미한 값인 것을 이전에 확인했기에 생략하였습니다.)\n",
    "\n",
    "입력데이터를 x[2], y[2] 한 개로 학습을 시킨 후 결과를 출력해 보면 상단의 이미지와 같이 prediction 된 값이 tgt의 값과 유사하게 나오긴 하였습니다.\n",
    "\n",
    "그러나, 한 개의 input을 유지한 채로 x[1], y[1] 과 x[0], y[0] 의 경우를 train 했을 때는 predection 값이 점점 tgt와 무의미한 값으로 변하게 되는데 이는 실제 모델 y = 2*x + 1 이 수치적으로 유의미해지기에 너무 좁은 영역의 input으로만 학습시켜 나온 것이라고 생각됩니다.\n",
    "(Decision boundary의 경계면이 모호한 부분에서 Input이 설정됨)\n",
    "\n",
    "따라서, 모델을 학습할 때에는 하나의 sample 만 학습시키는 것은 부적절합니다."
   ]
  }
 ],
 "metadata": {
  "kernelspec": {
   "display_name": "tf",
   "language": "python",
   "name": "python3"
  },
  "language_info": {
   "codemirror_mode": {
    "name": "ipython",
    "version": 3
   },
   "file_extension": ".py",
   "mimetype": "text/x-python",
   "name": "python",
   "nbconvert_exporter": "python",
   "pygments_lexer": "ipython3",
   "version": "3.8.16"
  },
  "vscode": {
   "interpreter": {
    "hash": "f8ec53252cf26a957edbb8b9ce183c13794d5a62a045e83224f93ccf6391a87e"
   }
  }
 },
 "nbformat": 4,
 "nbformat_minor": 2
}
