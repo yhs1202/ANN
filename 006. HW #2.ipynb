{
 "cells": [
  {
   "attachments": {},
   "cell_type": "markdown",
   "metadata": {},
   "source": [
    "Classification Prob.\n",
    "\n",
    "10 input var\n",
    "i binary optput var (benign or malignant)\n",
    "\n",
    "569 data samples\n",
    "samples[:100] -> test set\n",
    "samples[100:200] -> validation set\n",
    "samples[200:] -> training set\n",
    "\n",
    "!! train_test_split() -> ban !! \n",
    "// use numpy slicing\n",
    "\n",
    "if ? in b-c-w.data:\n",
    "    remove row\n",
    "\n",
    "data[:,0] -> remove\n",
    "\n",
    "normalize\n",
    "\n",
    "set output (malignant=1, benign=0)\n",
    "\n",
    "train, test, validation set\n",
    "\n",
    "<model>\n",
    "9 inputs\n",
    "10 hn (ReLu)\n",
    "1 optn (Sigmoid)"
   ]
  },
  {
   "cell_type": "code",
   "execution_count": null,
   "metadata": {},
   "outputs": [],
   "source": [
    "import tensorflow as tf\n",
    "import numpy as np\n",
    "\n",
    "# generating examples (samples)\n",
    "x = np.array([0, 1, 2, 3, 4])\n",
    "y = x*2 + 1\n",
    "\n",
    "# generating neural network modeling\n",
    "\n",
    "model = tf.keras.models.Sequential()\n",
    "model.add(tf.keras.layers.Dense(1, input_shape=(1,)))\n",
    "model.compile('SGD', 'mse', metrics=['accuracy'])\n",
    "\n",
    "# # before learning\n",
    "# print('Before Learning:')\n",
    "# print('Targets: ', y[2:])\n",
    "# print('Predictions: ', model.predict(x[2:]).flatten())\n",
    "# print(model.get_weights())\n",
    "\n",
    "# after training\n",
    "model.fit(x_input, y_input, epochs=epo, verbose=0)\n",
    "print('After Learning:')\n",
    "print('Targets: ', y[2:])\n",
    "print('Predictions: ', model.predict(x[2:]).flatten())\n",
    "print(model.get_weights())"
   ]
  }
 ],
 "metadata": {
  "kernelspec": {
   "display_name": "tf",
   "language": "python",
   "name": "python3"
  },
  "language_info": {
   "name": "python",
   "version": "3.8.16"
  },
  "orig_nbformat": 4,
  "vscode": {
   "interpreter": {
    "hash": "f8ec53252cf26a957edbb8b9ce183c13794d5a62a045e83224f93ccf6391a87e"
   }
  }
 },
 "nbformat": 4,
 "nbformat_minor": 2
}
