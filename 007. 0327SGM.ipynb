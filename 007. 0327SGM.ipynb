{
 "cells": [
  {
   "cell_type": "code",
   "execution_count": 3,
   "metadata": {},
   "outputs": [],
   "source": [
    "# MNIST Load\n",
    "\n",
    "from tensorflow.keras.datasets import mnist\n",
    "\n",
    "# data load\n",
    "(train_images, train_labels), (test_images, test_labels) = mnist.load_data()"
   ]
  },
  {
   "cell_type": "code",
   "execution_count": 4,
   "metadata": {},
   "outputs": [
    {
     "name": "stdout",
     "output_type": "stream",
     "text": [
      "0 th fold: \n",
      "Counter({1: 5391, 7: 4986, 3: 4903, 2: 4782, 9: 4756, 8: 4724, 0: 4717, 6: 4710, 4: 4658, 5: 4373})\n",
      "1 th fold: \n",
      "Counter({1: 5361, 7: 5055, 3: 4872, 2: 4787, 6: 4756, 0: 4748, 9: 4731, 8: 4686, 4: 4679, 5: 4325})\n",
      "2 th fold: \n",
      "Counter({1: 5361, 7: 5033, 3: 4928, 0: 4770, 2: 4763, 9: 4736, 6: 4721, 4: 4682, 8: 4671, 5: 4335})\n",
      "3 th fold: \n",
      "Counter({1: 5385, 7: 5018, 3: 4932, 9: 4771, 2: 4738, 6: 4737, 0: 4728, 4: 4694, 8: 4670, 5: 4327})\n",
      "4 th fold: \n",
      "Counter({1: 5470, 7: 4968, 3: 4889, 9: 4802, 2: 4762, 6: 4748, 0: 4729, 4: 4655, 8: 4653, 5: 4324})\n"
     ]
    }
   ],
   "source": [
    "# K-fold CV\n",
    "from sklearn.model_selection import KFold\n",
    "import collections\n",
    "\n",
    "kf = KFold(n_splits=5, shuffle=False)\n",
    "\n",
    "k=0\n",
    "\n",
    "for train_index, valid_index in kf.split(train_images):\n",
    "    X_train, label_train = train_images[train_index], train_labels[train_index]\n",
    "    X_valid, label_valid = train_images[valid_index], train_labels[valid_index]\n",
    "    print(k, \"th fold: \")\n",
    "    # print(X_train.shape)\n",
    "    # print(X_valid.shape)\n",
    "    print(collections.Counter(label_train))\n",
    "    k+=1\n"
   ]
  },
  {
   "cell_type": "code",
   "execution_count": 7,
   "metadata": {},
   "outputs": [
    {
     "name": "stdout",
     "output_type": "stream",
     "text": [
      "0 th fold: \n",
      "Counter({1: 5394, 7: 5012, 3: 4904, 2: 4767, 9: 4759, 0: 4739, 6: 4735, 8: 4681, 4: 4673, 5: 4336})\n",
      "[7 7 7 7 7 7 6 7 7 6]\n",
      "1 th fold: \n",
      "Counter({1: 5393, 7: 5012, 3: 4905, 2: 4767, 9: 4759, 0: 4738, 6: 4734, 8: 4681, 4: 4674, 5: 4337})\n",
      "[5 0 4 1 9 2 1 3 1 4]\n",
      "2 th fold: \n",
      "Counter({1: 5393, 7: 5012, 3: 4905, 2: 4766, 9: 4760, 0: 4738, 6: 4734, 8: 4681, 4: 4674, 5: 4337})\n",
      "[5 0 4 1 9 2 1 3 1 4]\n",
      "3 th fold: \n",
      "Counter({1: 5394, 7: 5012, 3: 4905, 2: 4766, 9: 4759, 0: 4738, 6: 4734, 8: 4681, 4: 4674, 5: 4337})\n",
      "[5 0 4 1 9 2 1 3 1 4]\n",
      "4 th fold: \n",
      "Counter({1: 5394, 7: 5012, 3: 4905, 2: 4766, 9: 4759, 0: 4739, 6: 4735, 8: 4680, 4: 4673, 5: 4337})\n",
      "[5 0 4 1 9 2 1 3 1 4]\n"
     ]
    }
   ],
   "source": [
    "# StratifiedKFold\n",
    "from sklearn.model_selection import StratifiedKFold\n",
    "import collections\n",
    "\n",
    "# kf = KFold(n_splits=5, shuffle=False)\n",
    "skf = StratifiedKFold(n_splits=5, shuffle=False)\n",
    "\n",
    "k=0\n",
    "\n",
    "for train_index, valid_index in skf.split(train_images, train_labels):\n",
    "    X_train, label_train = train_images[train_index], train_labels[train_index]\n",
    "    X_valid, label_valid = train_images[valid_index], train_labels[valid_index]\n",
    "    print(k, \"th fold: \")\n",
    "    # print(X_train.shape)\n",
    "    # print(X_valid.shape)\n",
    "    print(collections.Counter(label_train))\n",
    "    k+=1\n",
    "    print(label_train[0:10])"
   ]
  },
  {
   "cell_type": "code",
   "execution_count": 6,
   "metadata": {},
   "outputs": [
    {
     "name": "stdout",
     "output_type": "stream",
     "text": [
      "0 th fold: \n",
      "Counter({1: 5394, 7: 5012, 3: 4904, 2: 4767, 9: 4759, 0: 4739, 6: 4735, 8: 4681, 4: 4673, 5: 4336})\n",
      "[0 4 1 9 2 1 3 1 5 3]\n",
      "1 th fold: \n",
      "Counter({1: 5393, 7: 5012, 3: 4905, 2: 4767, 9: 4759, 0: 4738, 6: 4734, 8: 4681, 4: 4674, 5: 4337})\n",
      "[5 4 1 9 2 1 3 1 4 3]\n",
      "2 th fold: \n",
      "Counter({1: 5393, 7: 5012, 3: 4905, 2: 4766, 9: 4760, 0: 4738, 6: 4734, 8: 4681, 4: 4674, 5: 4337})\n",
      "[5 0 4 9 2 1 3 1 4 3]\n",
      "3 th fold: \n",
      "Counter({1: 5394, 7: 5012, 3: 4905, 2: 4766, 9: 4759, 0: 4738, 6: 4734, 8: 4681, 4: 4674, 5: 4337})\n",
      "[5 0 4 1 2 3 1 4 3 5]\n",
      "4 th fold: \n",
      "Counter({1: 5394, 7: 5012, 3: 4905, 2: 4766, 9: 4759, 0: 4739, 6: 4735, 8: 4680, 4: 4673, 5: 4337})\n",
      "[5 0 1 9 1 4 3 3 6 1]\n"
     ]
    }
   ],
   "source": [
    "# StratifiedKFold\n",
    "from sklearn.model_selection import StratifiedKFold\n",
    "import collections\n",
    "\n",
    "# kf = KFold(n_splits=5, shuffle=False)\n",
    "skf = StratifiedKFold(n_splits=5, shuffle=True)\n",
    "\n",
    "k=0\n",
    "\n",
    "for train_index, valid_index in skf.split(train_images, train_labels):\n",
    "    X_train, label_train = train_images[train_index], train_labels[train_index]\n",
    "    X_valid, label_valid = train_images[valid_index], train_labels[valid_index]\n",
    "    print(k, \"th fold: \")\n",
    "    # print(X_train.shape)\n",
    "    # print(X_valid.shape)\n",
    "    print(collections.Counter(label_train))\n",
    "    k+=1\n",
    "    print(label_train[0:10])"
   ]
  }
 ],
 "metadata": {
  "kernelspec": {
   "display_name": "tf",
   "language": "python",
   "name": "python3"
  },
  "language_info": {
   "codemirror_mode": {
    "name": "ipython",
    "version": 3
   },
   "file_extension": ".py",
   "mimetype": "text/x-python",
   "name": "python",
   "nbconvert_exporter": "python",
   "pygments_lexer": "ipython3",
   "version": "3.8.16"
  },
  "orig_nbformat": 4,
  "vscode": {
   "interpreter": {
    "hash": "f8ec53252cf26a957edbb8b9ce183c13794d5a62a045e83224f93ccf6391a87e"
   }
  }
 },
 "nbformat": 4,
 "nbformat_minor": 2
}
