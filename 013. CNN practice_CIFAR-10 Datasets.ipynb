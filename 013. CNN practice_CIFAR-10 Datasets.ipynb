{
 "cells": [
  {
   "cell_type": "code",
   "execution_count": null,
   "metadata": {},
   "outputs": [],
   "source": [
    "from tensorflow.keras.datasets import cifar10\n",
    "from tensorflow.keras.datasets import mnist\n",
    "from tensorflow.keras.utils import to_categorical\n",
    "from tensorflow.keras import models, layers\n",
    "from tensorflow.keras.callbacks import EarlyStopping\n",
    "import numpy as np\n",
    "import matplotlib.pyplot as plt"
   ]
  },
  {
   "cell_type": "code",
   "execution_count": null,
   "metadata": {},
   "outputs": [],
   "source": [
    "# cifar10 data loading\n",
    "(X_train, Y_train), (X_test, Y_test) = cifar10.load_data()\n",
    "\n",
    "# cifar10 data preprocessing\n",
    "X_train = X_train/255.0\n",
    "X_test = X_test/255.0\n",
    "num_classes = 10\n",
    "Y_train_ = to_categorical(Y_train, num_classes)\n",
    "Y_test_ = to_categorical(Y_test, num_classes)\n",
    "\n",
    "# cifar10 model definition\n",
    "L, W, H, C = X_train.shape\n",
    "input_shape = [W, H, C]"
   ]
  },
  {
   "cell_type": "code",
   "execution_count": null,
   "metadata": {},
   "outputs": [],
   "source": [
    "# mnist data loading\n",
    "(X_train, Y_train), (X_test, Y_test) = mnist.load_data()\n",
    "\n",
    "# mnist data preprocessing\n",
    "W, H = X_train.shape[1:]\n",
    "X_train = X_train.reshape(-1,W,H,1)/255.0\n",
    "X_test = X_test.reshape(-1,W,H,1)/255.0\n",
    "num_classes = 10\n",
    "Y_train_ = to_categorical(Y_train, num_classes)\n",
    "Y_test_ = to_categorical(Y_test, num_classes)\n",
    "\n",
    "# mnist model definition\n",
    "input_shape = [W, H, 1]"
   ]
  },
  {
   "cell_type": "code",
   "execution_count": null,
   "metadata": {},
   "outputs": [],
   "source": [
    "def build_model():\n",
    "    model = models.Sequential()\n",
    "    # 1st Conv layer\n",
    "    model.add(layers.Conv2D(32, kernel_size=(3, 3), activation='relu', input_shape=input_shape))\n",
    "    # 2nd Conv layer\n",
    "    model.add(layers.Conv2D(64, kernel_size=(3, 3), activation='relu'))\n",
    "    # max-pooling layer\n",
    "    model.add(layers.MaxPooling2D(pool_size=(2, 2)))\n",
    "    # Fully connected MLP\n",
    "    model.add(layers.Flatten())\n",
    "    model.add(layers.Dense(128, activation='relu'))\n",
    "    model.add(layers.Dense(num_classes, activation='softmax'))\n",
    "    # compile\n",
    "    model.compile(optimizer='rmsprop', loss='categorical_crossentropy', metrics=['accuracy'])\n",
    "    model.summary()\n",
    "    return model\n",
    "\n",
    "# Plotting func\n",
    "def plot_acc(h, title='accuracy'):\n",
    "    plt.plot(h.history['accuracy'])\n",
    "    plt.plot(h.history['val_accuracy'])\n",
    "    plt.title(title)\n",
    "    plt.ylabel('Accuracy')\n",
    "    plt.xlabel('Epoch')\n",
    "    plt.legend(['Training', 'Validation'], loc=0)\n",
    "\n",
    "def plot_loss(h, title='loss'):\n",
    "    plt.plot(h.history['loss'])\n",
    "    plt.plot(h.history['val_loss'])\n",
    "    plt.title(title)\n",
    "    plt.ylabel('Loss')\n",
    "    plt.xlabel('Epoch')\n",
    "    plt.legend(['Training', 'Validation'], loc=0)"
   ]
  },
  {
   "cell_type": "code",
   "execution_count": null,
   "metadata": {},
   "outputs": [],
   "source": [
    "# main loop w/o CV\n",
    "import time\n",
    "starttime = time.time()\n",
    "num_epochs = 20\n",
    "model = build_model()\n",
    "history = model.fit(X_train, Y_train_, validation_split=0.2, epochs = num_epochs, \n",
    "                    batch_size = 100, verbose=1, callbacks=[EarlyStopping(monitor='val_loss', patience=1)])\n",
    "train_loss, train_acc = model.evaluate(X_train, Y_train_)\n",
    "test_loss, test_acc = model.evaluate(X_test, Y_test_)\n",
    "print('train_acc=', train_acc)\n",
    "print('test_acc=', test_acc)\n",
    "print('elapsed time=', time.time()-starttime)"
   ]
  },
  {
   "cell_type": "code",
   "execution_count": null,
   "metadata": {},
   "outputs": [],
   "source": [
    "plot_acc(history)\n",
    "plt.show()\n",
    "plot_loss(history)\n",
    "plt.show()"
   ]
  }
 ],
 "metadata": {
  "kernelspec": {
   "display_name": "tf",
   "language": "python",
   "name": "python3"
  },
  "language_info": {
   "codemirror_mode": {
    "name": "ipython",
    "version": 3
   },
   "file_extension": ".py",
   "mimetype": "text/x-python",
   "name": "python",
   "nbconvert_exporter": "python",
   "pygments_lexer": "ipython3",
   "version": "3.8.16"
  },
  "orig_nbformat": 4
 },
 "nbformat": 4,
 "nbformat_minor": 2
}
