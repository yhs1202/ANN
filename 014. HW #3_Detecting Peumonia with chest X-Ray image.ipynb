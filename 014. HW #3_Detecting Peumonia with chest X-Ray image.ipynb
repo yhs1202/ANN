{
 "cells": [
  {
   "attachments": {},
   "cell_type": "markdown",
   "metadata": {},
   "source": [
    "예상 소요 시간\n",
    "#1 3~4시간\n",
    "#2 3~4시간\n",
    "#3 8~10시간\n",
    "#4 5~6시간\n",
    "#e1 1시간\n",
    "#e2 1시간"
   ]
  },
  {
   "attachments": {},
   "cell_type": "markdown",
   "metadata": {},
   "source": [
    "주요 안내 사항\n",
    "\n",
    "- 이미지 사이즈 모두 다르니깐 resizing 해줘야함\n",
    "    -> loading 하면서 128, 128로 resize\n",
    "    flow_from_directory(train_dir, target_size=(128, 128), batch_size=20, class_mode='binary')\n",
    "\n",
    "- loss, acc 기록/plotting 해서 표 채우기\n",
    "\n",
    "- 모델 학습시키고 fine-tuning 전후로 피클로 저장하기"
   ]
  },
  {
   "cell_type": "code",
   "execution_count": null,
   "metadata": {},
   "outputs": [],
   "source": []
  }
 ],
 "metadata": {
  "language_info": {
   "name": "python"
  },
  "orig_nbformat": 4
 },
 "nbformat": 4,
 "nbformat_minor": 2
}
