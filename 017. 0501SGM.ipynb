{
 "cells": [
  {
   "cell_type": "code",
   "execution_count": 1,
   "metadata": {},
   "outputs": [],
   "source": [
    "from tensorflow.keras.applications.vgg16 import VGG16, preprocess_input, decode_predictions \n",
    "#from tensorflow.keras import backend as K # base on the textbook. But it is tensorflow itself. \n",
    "from tensorflow.keras import backend as K \n",
    "from tensorflow.keras.preprocessing import image \n",
    "import matplotlib.pyplot as plt \n",
    "import numpy as np\n",
    "import tensorflow as tf\t\n",
    "tf.compat.v1.disable_eager_execution()"
   ]
  },
  {
   "cell_type": "code",
   "execution_count": 2,
   "metadata": {},
   "outputs": [],
   "source": [
    "def deprocess_image(X):\n",
    "    X -= X.mean()\n",
    "    X /= (X.std() + 1e-5)\n",
    "    X *= 0.1\n",
    "    X += 0.5\n",
    "    X = np.clip(X, 0, 1)\n",
    "    X *= 255\n",
    "    X = np.clip(X, 0, 255).astype('uint8')\n",
    "    return X \n",
    "\n",
    "\n",
    "def draw_activation(activation, figure_name):\n",
    "    images_per_row = 16\n",
    "    n_features = activation.shape[-1]\n",
    "    size=activation.shape[1]\n",
    "    n_cols=n_features // images_per_row\n",
    "    display_grid=np.zeros((size * n_cols, images_per_row*size))\n",
    "    for col in range(n_cols):\n",
    "        for row in range(images_per_row):\n",
    "            channel_image = activation[0, :, :, col*images_per_row+row]\n",
    "            channel_image = deprocess_image(channel_image)\n",
    "            display_grid[col*size:(col+1)*size,\n",
    "            row*size:(row+1)*size] = channel_image\n",
    "    scale = 1. /size\n",
    "\n",
    "    plt.figure(figsize=(scale*display_grid.shape[1], scale*display_grid.shape[0])) \n",
    "    plt.title(figure_name)\n",
    "    plt.grid(False)\n",
    "    plt.imshow(display_grid, aspect='auto', cmap='viridis')\n",
    "    plt.show()\n",
    "\n",
    "\n",
    "def gradCAM(model, x):\n",
    "    preds = model.predict(x)\n",
    "    print('Predicted:', decode_predictions(preds, top=3)[0])\n",
    "\n",
    "\n",
    "    # max_output=model.output[:,np.argmax(preds)]   # 1, 2\n",
    "    max_output=model.output[:,285]  # 3\n",
    "    last_conv_layer = model.get_layer('block5_conv3')\n",
    "    grads = K.gradients(max_output, last_conv_layer.output)[0]  #(?, 14, 14, 512)\n",
    "    # gradient of max_output with respect to last_conv_layer.output\n",
    "    pooled_grads = K.mean(grads, axis=(0,1,2)) # (512, )\n",
    "    # each filter’s grads ~ how each filter affects the max_output class.\n",
    "    # or how each filter is important to decide max_output class\n",
    "    \n",
    "    iterate = K.function([model.input], [pooled_grads, last_conv_layer.output[0]])\n",
    "    pooled_grads_value, conv_layer_output_value=iterate([x])\n",
    "    \n",
    "    # Multiplies each channel by “how important this channel is” for max_output class\n",
    "    # Thus, only the pattern with high importance will be survived.\n",
    "    \n",
    "    for i in range(512):   # 512 is the number of filters\n",
    "        conv_layer_output_value[:,:,i] *= pooled_grads_value[i]\n",
    "    heatmap = np.mean(conv_layer_output_value, axis=-1)\n",
    "    heatmap = np.maximum(heatmap, 0) \n",
    "    heatmap /= np.max(heatmap) \n",
    "    return heatmap, conv_layer_output_value, pooled_grads_value"
   ]
  },
  {
   "cell_type": "code",
   "execution_count": 3,
   "metadata": {},
   "outputs": [
    {
     "ename": "FileNotFoundError",
     "evalue": "[Errno 2] No such file or directory: './1569.jpg'",
     "output_type": "error",
     "traceback": [
      "\u001b[0;31m---------------------------------------------------------------------------\u001b[0m",
      "\u001b[0;31mFileNotFoundError\u001b[0m                         Traceback (most recent call last)",
      "\u001b[1;32m/Users/hsyoon/Desktop/ANN/017. 0501SGM.ipynb Cell 3\u001b[0m in \u001b[0;36m4\n\u001b[1;32m      <a href='vscode-notebook-cell:/Users/hsyoon/Desktop/ANN/017.%200501SGM.ipynb#W2sZmlsZQ%3D%3D?line=1'>2</a>\u001b[0m img_path \u001b[39m=\u001b[39m \u001b[39m'\u001b[39m\u001b[39m./1569.jpg\u001b[39m\u001b[39m'\u001b[39m \n\u001b[1;32m      <a href='vscode-notebook-cell:/Users/hsyoon/Desktop/ANN/017.%200501SGM.ipynb#W2sZmlsZQ%3D%3D?line=2'>3</a>\u001b[0m \u001b[39m# img_path = './1700.jpg' \u001b[39;00m\n\u001b[0;32m----> <a href='vscode-notebook-cell:/Users/hsyoon/Desktop/ANN/017.%200501SGM.ipynb#W2sZmlsZQ%3D%3D?line=3'>4</a>\u001b[0m img\u001b[39m=\u001b[39mimage\u001b[39m.\u001b[39;49mload_img(img_path, target_size\u001b[39m=\u001b[39;49m(\u001b[39m224\u001b[39;49m,\u001b[39m224\u001b[39;49m)) \n\u001b[1;32m      <a href='vscode-notebook-cell:/Users/hsyoon/Desktop/ANN/017.%200501SGM.ipynb#W2sZmlsZQ%3D%3D?line=4'>5</a>\u001b[0m img_tensor \u001b[39m=\u001b[39m image\u001b[39m.\u001b[39mimg_to_array(img) \n\u001b[1;32m      <a href='vscode-notebook-cell:/Users/hsyoon/Desktop/ANN/017.%200501SGM.ipynb#W2sZmlsZQ%3D%3D?line=5'>6</a>\u001b[0m img_tensor \u001b[39m=\u001b[39m np\u001b[39m.\u001b[39mexpand_dims(img_tensor, axis\u001b[39m=\u001b[39m\u001b[39m0\u001b[39m) \n",
      "File \u001b[0;32m/usr/local/lib/python3.9/dist-packages/keras/utils/image_utils.py:393\u001b[0m, in \u001b[0;36mload_img\u001b[0;34m(path, grayscale, color_mode, target_size, interpolation, keep_aspect_ratio)\u001b[0m\n\u001b[1;32m    391\u001b[0m   \u001b[39mif\u001b[39;00m \u001b[39misinstance\u001b[39m(path, pathlib\u001b[39m.\u001b[39mPath):\n\u001b[1;32m    392\u001b[0m     path \u001b[39m=\u001b[39m \u001b[39mstr\u001b[39m(path\u001b[39m.\u001b[39mresolve())\n\u001b[0;32m--> 393\u001b[0m   \u001b[39mwith\u001b[39;00m \u001b[39mopen\u001b[39;49m(path, \u001b[39m'\u001b[39;49m\u001b[39mrb\u001b[39;49m\u001b[39m'\u001b[39;49m) \u001b[39mas\u001b[39;00m f:\n\u001b[1;32m    394\u001b[0m     img \u001b[39m=\u001b[39m pil_image\u001b[39m.\u001b[39mopen(io\u001b[39m.\u001b[39mBytesIO(f\u001b[39m.\u001b[39mread()))\n\u001b[1;32m    395\u001b[0m \u001b[39melse\u001b[39;00m:\n",
      "\u001b[0;31mFileNotFoundError\u001b[0m: [Errno 2] No such file or directory: './1569.jpg'"
     ]
    }
   ],
   "source": [
    "# image preprocessing \n",
    "img_path = './1569.jpg' \n",
    "# img_path = './1700.jpg' \n",
    "img=image.load_img(img_path, target_size=(224,224)) \n",
    "img_tensor = image.img_to_array(img) \n",
    "img_tensor = np.expand_dims(img_tensor, axis=0) \n",
    "img_tensor = preprocess_input(img_tensor)\n",
    "\n",
    "# prediction \n",
    "model = VGG16(weights='imagenet') \n",
    "heatmap, conv_output, pooled_grads=gradCAM(model, img_tensor)"
   ]
  },
  {
   "cell_type": "code",
   "execution_count": null,
   "metadata": {},
   "outputs": [
    {
     "data": {
      "image/png": "[encoded data removed]",
      "text/plain": [
       "<Figure size 1600x200 with 1 Axes>"
      ]
     },
     "metadata": {},
     "output_type": "display_data"
    },
    {
     "data": {
      "text/plain": [
       "<matplotlib.image.AxesImage at 0x7fe55c34ad30>"
      ]
     },
     "execution_count": 46,
     "metadata": {},
     "output_type": "execute_result"
    },
    {
     "data": {
      "image/png": "[encoded data removed]",
      "text/plain": [
       "<Figure size 1600x200 with 1 Axes>"
      ]
     },
     "metadata": {},
     "output_type": "display_data"
    }
   ],
   "source": [
    "# visualization\n",
    "import cv2 # you need “conda install opencv”\n",
    "img=cv2.imread(img_path)\n",
    "heatmap=cv2.resize(heatmap, (img.shape[1],img.shape[0]))\n",
    "heatmap=np.uint8(255*heatmap)\n",
    "heatmap=cv2.applyColorMap(heatmap, cv2.COLORMAP_JET)\n",
    "superimposed_img=heatmap*0.4+img\n",
    "cv2.imwrite('1569_2.jpg', superimposed_img)\n",
    "\n",
    "# visualization of conv_output and pooled_grads\n",
    "draw_no=range(256,256+32,1)\n",
    "conv_activation=np.expand_dims(conv_output[:,:,draw_no], axis=0)\n",
    "draw_activation(conv_activation, 'last_conv') # in the chapter 5.4.1\n",
    "plt.show()\n",
    "plt.matshow(pooled_grads[draw_no].reshape(-1,16), cmap='viridis')"
   ]
  },
  {
   "cell_type": "code",
   "execution_count": null,
   "metadata": {},
   "outputs": [
    {
     "ename": "NameError",
     "evalue": "name 'activations' is not defined",
     "output_type": "error",
     "traceback": [
      "\u001b[0;31m---------------------------------------------------------------------------\u001b[0m",
      "\u001b[0;31mNameError\u001b[0m                                 Traceback (most recent call last)",
      "\u001b[1;32m/Users/hsyoon/Desktop/ANN/017. 0501SGM.ipynb Cell 5\u001b[0m in \u001b[0;36m3\n\u001b[1;32m      <a href='vscode-notebook-cell:/Users/hsyoon/Desktop/ANN/017.%200501SGM.ipynb#W4sZmlsZQ%3D%3D?line=0'>1</a>\u001b[0m layer_names\u001b[39m=\u001b[39m[layer\u001b[39m.\u001b[39mname \u001b[39mfor\u001b[39;00m layer \u001b[39min\u001b[39;00m model\u001b[39m.\u001b[39mlayers[:\u001b[39m8\u001b[39m]] \n\u001b[0;32m----> <a href='vscode-notebook-cell:/Users/hsyoon/Desktop/ANN/017.%200501SGM.ipynb#W4sZmlsZQ%3D%3D?line=2'>3</a>\u001b[0m \u001b[39mfor\u001b[39;00m figure_name, activation \u001b[39min\u001b[39;00m \u001b[39mzip\u001b[39m(layer_names, activations):\n\u001b[1;32m      <a href='vscode-notebook-cell:/Users/hsyoon/Desktop/ANN/017.%200501SGM.ipynb#W4sZmlsZQ%3D%3D?line=3'>4</a>\u001b[0m     draw_activation(activation, figure_name)\n",
      "\u001b[0;31mNameError\u001b[0m: name 'activations' is not defined"
     ]
    }
   ],
   "source": [
    "layer_names=[layer.name for layer in model.layers[:8]] \n",
    "\n",
    "for figure_name, activation in zip(layer_names, activations):\n",
    "    draw_activation(activation, figure_name)"
   ]
  }
 ],
 "metadata": {
  "kernelspec": {
   "display_name": "Python 3 (ipykernel)",
   "language": "python",
   "name": "python3"
  },
  "language_info": {
   "codemirror_mode": {
    "name": "ipython",
    "version": 3
   },
   "file_extension": ".py",
   "mimetype": "text/x-python",
   "name": "python",
   "nbconvert_exporter": "python",
   "pygments_lexer": "ipython3",
   "version": "3.9.16"
  },
  "orig_nbformat": 4
 },
 "nbformat": 4,
 "nbformat_minor": 2
}
