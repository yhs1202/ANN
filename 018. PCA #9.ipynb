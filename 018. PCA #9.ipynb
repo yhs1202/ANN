{
 "cells": [
  {
   "cell_type": "code",
   "execution_count": null,
   "metadata": {},
   "outputs": [],
   "source": [
    "from tensorflow.keras.preprocessing.image import ImageDataGenerator\n",
    "from tensorflow.keras import models, layers, optimizers\n",
    "from tensorflow.keras.callbacks import EarlyStopping\n",
    "import matplotlib.pyplot as plt"
   ]
  },
  {
   "cell_type": "code",
   "execution_count": null,
   "metadata": {},
   "outputs": [],
   "source": [
    "# set image generators\n",
    "train_dir='./datasets/cats_and_dogs_small/train/'\n",
    "test_dir='./datasets/cats_and_dogs_small/test/'\n",
    "validation_dir='./datasets/cats_and_dogs_small/validation/'\n",
    "\n",
    "train_datagen = ImageDataGenerator(rescale=1./255)\n",
    "validation_datagen = ImageDataGenerator(rescale=1./255)\n",
    "test_datagen = ImageDataGenerator(rescale=1./255)\n",
    "\n",
    "train_generator = train_datagen.flow_from_directory(\n",
    "        train_dir,\n",
    "        target_size=(150, 150),\n",
    "        batch_size=20,\n",
    "        class_mode='binary')\n",
    "test_generator = test_datagen.flow_from_directory(\n",
    "        test_dir,\n",
    "        target_size=(150, 150),\n",
    "        batch_size=20,\n",
    "        class_mode='binary')\n",
    "validation_generator = validation_datagen.flow_from_directory(\n",
    "        validation_dir,\n",
    "        target_size=(150, 150),\n",
    "        batch_size=20,\n",
    "        class_mode='binary')"
   ]
  },
  {
   "cell_type": "code",
   "execution_count": null,
   "metadata": {},
   "outputs": [],
   "source": [
    "# model definition\n",
    "input_shape = [150, 150, 3] # as a shape of image\n",
    "def build_model():\n",
    "    model=models.Sequential()\n",
    "    model.add(layers.Conv2D(32, (3, 3), activation='relu',\n",
    "                            input_shape=input_shape))\n",
    "    model.add(layers.MaxPooling2D((2, 2)))\n",
    "    model.add(layers.Conv2D(64, (3, 3), activation='relu'))\n",
    "    model.add(layers.MaxPooling2D((2, 2)))\n",
    "    model.add(layers.Conv2D(128, (3, 3), activation='relu'))\n",
    "    model.add(layers.MaxPooling2D((2, 2)))\n",
    "    model.add(layers.Conv2D(128, (3, 3), activation='relu'))\n",
    "    model.add(layers.MaxPooling2D((2, 2)))\n",
    "    model.add(layers.Flatten())\n",
    "    model.add(layers.Dense(512, activation='relu'))\n",
    "    model.add(layers.Dense(1, activation='sigmoid'))\n",
    "    # compile\n",
    "    model.compile(optimizer=optimizers.RMSprop(lr=1e-4),\n",
    "                  loss='binary_crossentropy', metrics=['accuracy'])\n",
    "    return model\n",
    "\n",
    "# main loop without cross-validation\n",
    "import time\n",
    "starttime=time.time()\n",
    "num_epochs = 30\n",
    "model = build_model()\n",
    "history = model.fit_generator(train_generator,\n",
    "                    epochs=num_epochs, steps_per_epoch=100,\n",
    "                    validation_data=validation_generator, validation_steps=50)\n",
    "\n",
    "# saving the model\n",
    "model.save('cats_and_dogs_small_1.h5')"
   ]
  },
  {
   "cell_type": "code",
   "execution_count": null,
   "metadata": {},
   "outputs": [],
   "source": [
    "# evaluation\n",
    "train_loss, train_acc = model.evaluate_generator(train_generator)\n",
    "test_loss, test_acc = model.evaluate_generator(test_generator)\n",
    "print('train_acc:', train_acc)\n",
    "print('test_acc:', test_acc)\n",
    "print(\"elapsed time (in sec): \", time.time()-starttime)"
   ]
  },
  {
   "cell_type": "code",
   "execution_count": null,
   "metadata": {},
   "outputs": [],
   "source": [
    "# visualization\n",
    "def plot_acc(h, title=\"accuracy\"):\n",
    "    plt.plot(h.history['acc'])\n",
    "    plt.plot(h.history ['val_acc'])\n",
    "    plt.title(title)\n",
    "    plt.ylabel('Accuracy')\n",
    "    plt.xlabel('Epoch')\n",
    "    plt.legend(['Training', 'Validation'], loc=0)\n",
    "\n",
    "def plot_loss(h, title=\"loss\"):\n",
    "    plt.plot(h.history ['loss'])\n",
    "    plt.plot(h.history ['val_loss'])\n",
    "    plt.title(title)\n",
    "    plt.ylabel('Loss')\n",
    "    plt.xlabel('Epoch')\n",
    "    plt.legend(['Training', 'Validation'], loc=0)\n",
    "\n",
    "plot_loss(history)\n",
    "plt.savefig('chapter5-2_basic.loss.png')\n",
    "plt.clf()\n",
    "plot_acc(history)\n",
    "plt.savefig('chapter5-2_basic.accuracy.png')"
   ]
  }
 ],
 "metadata": {
  "language_info": {
   "name": "python"
  },
  "orig_nbformat": 4
 },
 "nbformat": 4,
 "nbformat_minor": 2
}
