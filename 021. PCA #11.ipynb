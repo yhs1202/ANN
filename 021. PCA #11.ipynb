{
 "cells": [
  {
   "cell_type": "code",
   "execution_count": 44,
   "metadata": {},
   "outputs": [],
   "source": [
    "import os\n",
    "import numpy as np"
   ]
  },
  {
   "cell_type": "code",
   "execution_count": 45,
   "metadata": {},
   "outputs": [],
   "source": [
    "class Data():\n",
    "    def __init__(self, fname, ratio) -> None:\n",
    "        f = open(fname)\n",
    "        data = f.read()\n",
    "        f.close\n",
    "\n",
    "        # csv file split\n",
    "        lines = data.split('\\n')\n",
    "        header = lines[0].split('.')\n",
    "        lines = lines[1:]\n",
    "        values = [line.split(',')[1:] for line in lines]\n",
    "        self.float_data = np.array(values).astype('float32')\n",
    "        self.data_length = self.float_data.shape[-1]\n",
    "\n",
    "        # basic information\n",
    "        self.ratio = ratio\n",
    "        self.train_set_length = int(self.float_data.shape[0] * ratio[0])\n",
    "        self.val_set_length = int(self.float_data.shape[0] * ratio[1])\n",
    "\n",
    "        # data normalization\n",
    "        Data.normalize(self)\n",
    "    \n",
    "    def normalize(self):\n",
    "        import copy\n",
    "        self.data = copy.deepcopy(self.float_data)\n",
    "        mean = self.data[:self.train_set_length].mean(axis=0)\n",
    "        self.data -= mean\n",
    "        std = self.data[:self.train_set_length].std(axis=0)\n",
    "        self.data /= std\n",
    "        self.mean = mean\n",
    "        self.std = std\n",
    "\n",
    "    def get_generators(self, lookback, delay, batch_size=128, step=6):\n",
    "        self.train_gen = Data.generator(self, lookback=lookback, delay=delay,\n",
    "                                        min_index=0, max_index=self.train_set_length,\n",
    "                                        shuffle=True, step=step, batch_size=batch_size)\n",
    "        self.val_gen = Data.generator(self, lookback=lookback, delay=delay,\n",
    "                                        min_index=self.train_set_length, max_index=self.train_set_length+self.val_set_length,\n",
    "                                        shuffle=False, step=step, batch_size=batch_size)\n",
    "        self.test_gen = Data.generator(self, lookback=lookback, delay=delay,\n",
    "                                        min_index=self.train_set_length+self.val_set_length, max_index=None,\n",
    "                                        shuffle=False, step=step, batch_size=batch_size)\n",
    "        self.train_steps = (self.train_set_length - lookback) // batch_size\n",
    "        self.val_steps = (self.val_set_length - lookback) // batch_size\n",
    "        self.test_steps = ((len(self.data) - self.val_set_length - self.train_set_length - lookback)) // batch_size\n",
    "        self.lookback = lookback\n",
    "        self.batch_size = batch_size\n",
    "        self.step = step\n",
    "\n",
    "    def generator(self, lookback, delay, min_index, max_index, shuffle=False, batch_size=128, step=6):\n",
    "        if max_index is None:\n",
    "            max_index = len(self.data) - delay - 1\n",
    "        i = min_index + lookback\n",
    "        while True:\n",
    "            if shuffle:\n",
    "                rows = np.random.randint(min_index + lookback, max_index, size=batch_size)\n",
    "            else:\n",
    "                if i + batch_size >= max_index:\n",
    "                    i = min_index + lookback\n",
    "                rows = np.arange(i, min(i+batch_size, max_index))\n",
    "                i += len(rows)\n",
    "            samples = np.zeros((len(rows), lookback//step, self.data_length))\n",
    "            targets = np.zeros((len(rows),))\n",
    "            for j, row in enumerate(rows):\n",
    "                indices = range(rows[j] - lookback, rows[j], step)\n",
    "                samples[j] = self.data[indices]\n",
    "                targets[j] = self.data[rows[j]+delay-1][1]\n",
    "            yield samples, targets\n",
    "\n",
    "def main(type:str, ratio=[0.5, 0.25, 0.25], lookback=2880, step=6, delay=144, batch_size=128, epochs=40):\n",
    "    fname = './datasets/jena_climate/jena_climate_2009_2016.csv'\n",
    "    dataset = Data(fname, ratio)\n",
    "    dataset.get_generators(lookback=lookback, delay=delay, batch_size=batch_size, step=6)\n",
    "\n",
    "    from tensorflow.keras import layers, models\n",
    "    model = models.Sequential()\n",
    "    history = None\n",
    "    # simple ANN\n",
    "    if type == 'ANN':\n",
    "        model.add(layers.Flatten(input_shape=(lookback//step, dataset.data.shape[-1])))\n",
    "        model.add(layers.Dense(32, activation='relu'))\n",
    "        model.add(layers.Dense(1))\n",
    "        model.compile(optimizer='RMSprop', loss='mae')\n",
    "        history = model.fit_generator(dataset.train_gen, steps_per_epoch=dataset.train_steps, epochs=epochs,\n",
    "                                    validation_data=dataset.val_gen, validation_steps=dataset.val_steps)\n",
    "\n",
    "    # simple RNN\n",
    "    if type == 'RNN':\n",
    "        model.add(layers.SimpleRNN(32, activation='relu'))\n",
    "        model.add(layers.Dense(1))\n",
    "        model.compile(optimizer='RMSprop', loss='mae')\n",
    "        history = model.fit_generator(dataset.train_gen, steps_per_epoch=500, epochs=epochs,\n",
    "                                    validation_data=dataset.val_gen, validation_steps=dataset.val_steps)\n",
    "        \n",
    "    # simple LSTM\n",
    "    if type == 'LSTM':\n",
    "        model.add(layers.LSTM(32))\n",
    "        model.add(layers.Dense(1))\n",
    "        model.compile(optimizer='RMSprop', loss='mae')\n",
    "        history = model.fit_generator(dataset.train_gen, steps_per_epoch=500, epochs=epochs,\n",
    "                                    validation_data=dataset.val_gen, validation_steps=dataset.val_steps)\n",
    "    model.summary()\n",
    "\n",
    "    train_loss = model.evaluate_generator(dataset.train_gen, steps=dataset.val_steps)\n",
    "    test_loss = model.evaluate_generator(dataset.test_gen, steps=dataset.test_steps)\n",
    "    print('train_loss: ', train_loss)\n",
    "    print('test_loss: ', test_loss)\n",
    "\n",
    "\n",
    "    train_predictions = model.predict_generator(dataset.train_gen, steps=dataset.train_steps)\n",
    "    test_predictions = model.predict_generator(dataset.test_gen, steps=dataset.test_steps)\n",
    "    train_predictions = np.concatenate(train_predictions)\n",
    "    test_predictions = np.concatenate(test_predictions)\n",
    "    train_true_labels = []\n",
    "    test_true_labels = []\n",
    "    for _, targets in dataset.train_gen:\n",
    "        train_true_labels.append(targets)\n",
    "        if len(train_true_labels) * dataset.batch_size >= dataset.train_set_length:\n",
    "            break\n",
    "\n",
    "    for _, targets in dataset.test_gen:\n",
    "        test_true_labels.append(targets)\n",
    "        if len(test_true_labels) * dataset.batch_size >= len(dataset.data) - dataset.train_set_length - dataset.val_set_length:\n",
    "            break\n",
    "\n",
    "    train_true_labels = np.concatenate(train_true_labels)[:len(train_predictions)]\n",
    "    test_true_labels = np.concatenate(test_true_labels)[:len(test_predictions)]\n",
    "\n",
    "    from sklearn.metrics import mean_absolute_error, mean_absolute_percentage_error\n",
    "\n",
    "    train_mae = mean_absolute_error(train_true_labels, train_predictions)\n",
    "    test_mae = mean_absolute_error(test_true_labels, test_predictions)\n",
    "\n",
    "    train_mape = mean_absolute_percentage_error(train_true_labels, train_predictions)\n",
    "    test_mape = mean_absolute_percentage_error(test_true_labels, test_predictions)\n",
    "\n",
    "    print('Train MAE:', train_mae)\n",
    "    print('Test MAE:', test_mae)\n",
    "\n",
    "    print('Train MAPE:', train_mape)\n",
    "    print('Test MAPE:', test_mape)\n",
    "\n",
    "    return model, history\n"
   ]
  },
  {
   "cell_type": "code",
   "execution_count": 46,
   "metadata": {},
   "outputs": [],
   "source": [
    "def plotting(model, history, epochs):\n",
    "    import matplotlib.pyplot as plt\n",
    "    plt.plot(range(0, epochs), history.history['loss'], 'b')\n",
    "    plt.plot(range(0, epochs), history.history['val_loss'], 'g')\n",
    "    plt.legend(('train_loss', 'val_loss'))\n",
    "    plt.show()"
   ]
  },
  {
   "cell_type": "code",
   "execution_count": 47,
   "metadata": {},
   "outputs": [
    {
     "name": "stdout",
     "output_type": "stream",
     "text": [
      "Epoch 1/40\n"
     ]
    },
    {
     "name": "stderr",
     "output_type": "stream",
     "text": [
      "/var/folders/v9/bwnxmmgs13zd3yg44zhmyl5r0000gn/T/ipykernel_96967/4241187224.py:84: UserWarning: `Model.fit_generator` is deprecated and will be removed in a future version. Please use `Model.fit`, which supports generators.\n",
      "  history = model.fit_generator(dataset.train_gen, steps_per_epoch=dataset.train_steps, epochs=epochs,\n",
      "2023-05-28 18:21:39.258113: I tensorflow/core/grappler/optimizers/custom_graph_optimizer_registry.cc:113] Plugin optimizer for device_type GPU is enabled.\n"
     ]
    },
    {
     "name": "stdout",
     "output_type": "stream",
     "text": [
      "1620/1620 [==============================] - ETA: 0s - loss: 0.8973"
     ]
    },
    {
     "name": "stderr",
     "output_type": "stream",
     "text": [
      "2023-05-28 18:21:51.266412: I tensorflow/core/grappler/optimizers/custom_graph_optimizer_registry.cc:113] Plugin optimizer for device_type GPU is enabled.\n"
     ]
    },
    {
     "name": "stdout",
     "output_type": "stream",
     "text": [
      "1620/1620 [==============================] - 17s 10ms/step - loss: 0.8973 - val_loss: 0.3964\n",
      "Epoch 2/40\n",
      "1620/1620 [==============================] - 17s 10ms/step - loss: 0.2485 - val_loss: 0.3551\n",
      "Epoch 3/40\n",
      "1620/1620 [==============================] - 16s 10ms/step - loss: 0.2211 - val_loss: 0.3548\n",
      "Epoch 4/40\n",
      "1620/1620 [==============================] - 16s 10ms/step - loss: 0.2058 - val_loss: 0.4147\n",
      "Epoch 5/40\n",
      "1620/1620 [==============================] - 16s 10ms/step - loss: 0.1962 - val_loss: 0.3682\n",
      "Epoch 6/40\n",
      "1620/1620 [==============================] - 16s 10ms/step - loss: 0.1901 - val_loss: 0.3627\n",
      "Epoch 7/40\n",
      "1620/1620 [==============================] - 16s 10ms/step - loss: 0.1856 - val_loss: 0.3961\n",
      "Epoch 8/40\n",
      "1620/1620 [==============================] - 16s 10ms/step - loss: 0.1813 - val_loss: 0.3695\n",
      "Epoch 9/40\n",
      "1620/1620 [==============================] - 16s 10ms/step - loss: 0.1789 - val_loss: 0.3848\n",
      "Epoch 10/40\n",
      "1620/1620 [==============================] - 16s 10ms/step - loss: 0.1756 - val_loss: 0.4192\n",
      "Epoch 11/40\n",
      "1620/1620 [==============================] - 16s 10ms/step - loss: 0.1733 - val_loss: 0.3853\n",
      "Epoch 12/40\n",
      "1620/1620 [==============================] - 17s 10ms/step - loss: 0.1711 - val_loss: 0.3936\n",
      "Epoch 13/40\n",
      "1620/1620 [==============================] - 16s 10ms/step - loss: 0.1688 - val_loss: 0.3767\n",
      "Epoch 14/40\n",
      "1620/1620 [==============================] - 16s 10ms/step - loss: 0.1679 - val_loss: 0.3996\n",
      "Epoch 15/40\n",
      "1620/1620 [==============================] - 16s 10ms/step - loss: 0.1661 - val_loss: 0.3765\n",
      "Epoch 16/40\n",
      "1620/1620 [==============================] - 16s 10ms/step - loss: 0.1650 - val_loss: 0.4131\n",
      "Epoch 17/40\n",
      "1620/1620 [==============================] - 16s 10ms/step - loss: 0.1633 - val_loss: 0.4089\n",
      "Epoch 18/40\n",
      "1620/1620 [==============================] - 16s 10ms/step - loss: 0.1626 - val_loss: 0.3842\n",
      "Epoch 19/40\n",
      "1620/1620 [==============================] - 16s 10ms/step - loss: 0.1612 - val_loss: 0.3820\n",
      "Epoch 20/40\n",
      "1620/1620 [==============================] - 16s 10ms/step - loss: 0.1601 - val_loss: 0.4032\n",
      "Epoch 21/40\n",
      "1620/1620 [==============================] - 16s 10ms/step - loss: 0.1585 - val_loss: 0.3888\n",
      "Epoch 22/40\n",
      "1620/1620 [==============================] - 16s 10ms/step - loss: 0.1574 - val_loss: 0.3911\n",
      "Epoch 23/40\n",
      "1620/1620 [==============================] - 16s 10ms/step - loss: 0.1570 - val_loss: 0.3872\n",
      "Epoch 24/40\n",
      "1620/1620 [==============================] - 16s 10ms/step - loss: 0.1562 - val_loss: 0.4066\n",
      "Epoch 25/40\n",
      "1620/1620 [==============================] - 16s 10ms/step - loss: 0.1550 - val_loss: 0.4095\n",
      "Epoch 26/40\n",
      "1620/1620 [==============================] - 16s 10ms/step - loss: 0.1540 - val_loss: 0.3767\n",
      "Epoch 27/40\n",
      "1620/1620 [==============================] - 16s 10ms/step - loss: 0.1534 - val_loss: 0.3828\n",
      "Epoch 28/40\n",
      "1620/1620 [==============================] - 16s 10ms/step - loss: 0.1524 - val_loss: 0.3713\n",
      "Epoch 29/40\n",
      "1620/1620 [==============================] - 16s 10ms/step - loss: 0.1523 - val_loss: 0.3774\n",
      "Epoch 30/40\n",
      "1620/1620 [==============================] - 16s 10ms/step - loss: 0.1509 - val_loss: 0.4102\n",
      "Epoch 31/40\n",
      "1620/1620 [==============================] - 16s 10ms/step - loss: 0.1503 - val_loss: 0.3794\n",
      "Epoch 32/40\n",
      "1620/1620 [==============================] - 16s 10ms/step - loss: 0.1495 - val_loss: 0.3776\n",
      "Epoch 33/40\n",
      "1620/1620 [==============================] - 16s 10ms/step - loss: 0.1489 - val_loss: 0.3875\n",
      "Epoch 34/40\n",
      "1620/1620 [==============================] - 16s 10ms/step - loss: 0.1484 - val_loss: 0.3966\n",
      "Epoch 35/40\n",
      "1620/1620 [==============================] - 16s 10ms/step - loss: 0.1477 - val_loss: 0.3838\n",
      "Epoch 36/40\n",
      "1620/1620 [==============================] - 15s 10ms/step - loss: 0.1465 - val_loss: 0.4072\n",
      "Epoch 37/40\n",
      "1620/1620 [==============================] - 16s 10ms/step - loss: 0.1465 - val_loss: 0.3931\n",
      "Epoch 38/40\n",
      "1620/1620 [==============================] - 16s 10ms/step - loss: 0.1454 - val_loss: 0.3836\n",
      "Epoch 39/40\n",
      "1620/1620 [==============================] - 16s 10ms/step - loss: 0.1442 - val_loss: 0.3963\n",
      "Epoch 40/40\n",
      "1620/1620 [==============================] - 16s 10ms/step - loss: 0.1441 - val_loss: 0.4037\n",
      "Model: \"sequential_9\"\n",
      "_________________________________________________________________\n",
      " Layer (type)                Output Shape              Param #   \n",
      "=================================================================\n",
      " flatten_9 (Flatten)         (None, 6720)              0         \n",
      "                                                                 \n",
      " dense_18 (Dense)            (None, 32)                215072    \n",
      "                                                                 \n",
      " dense_19 (Dense)            (None, 1)                 33        \n",
      "                                                                 \n",
      "=================================================================\n",
      "Total params: 215,105\n",
      "Trainable params: 215,105\n",
      "Non-trainable params: 0\n",
      "_________________________________________________________________\n"
     ]
    },
    {
     "name": "stderr",
     "output_type": "stream",
     "text": [
      "/var/folders/v9/bwnxmmgs13zd3yg44zhmyl5r0000gn/T/ipykernel_96967/4241187224.py:104: UserWarning: `Model.evaluate_generator` is deprecated and will be removed in a future version. Please use `Model.evaluate`, which supports generators.\n",
      "  train_loss = model.evaluate_generator(dataset.train_gen, steps=dataset.val_steps)\n",
      "/var/folders/v9/bwnxmmgs13zd3yg44zhmyl5r0000gn/T/ipykernel_96967/4241187224.py:105: UserWarning: `Model.evaluate_generator` is deprecated and will be removed in a future version. Please use `Model.evaluate`, which supports generators.\n",
      "  test_loss = model.evaluate_generator(dataset.test_gen, steps=dataset.test_steps)\n"
     ]
    },
    {
     "name": "stdout",
     "output_type": "stream",
     "text": [
      "train_loss:  0.1457975208759308\n",
      "test_loss:  1.9002597332000732\n"
     ]
    },
    {
     "name": "stderr",
     "output_type": "stream",
     "text": [
      "/var/folders/v9/bwnxmmgs13zd3yg44zhmyl5r0000gn/T/ipykernel_96967/4241187224.py:110: UserWarning: `Model.predict_generator` is deprecated and will be removed in a future version. Please use `Model.predict`, which supports generators.\n",
      "  train_predictions = model.predict_generator(dataset.train_gen, steps=dataset.train_steps)\n",
      "2023-05-28 18:32:20.378472: I tensorflow/core/grappler/optimizers/custom_graph_optimizer_registry.cc:113] Plugin optimizer for device_type GPU is enabled.\n",
      "/var/folders/v9/bwnxmmgs13zd3yg44zhmyl5r0000gn/T/ipykernel_96967/4241187224.py:111: UserWarning: `Model.predict_generator` is deprecated and will be removed in a future version. Please use `Model.predict`, which supports generators.\n",
      "  test_predictions = model.predict_generator(dataset.test_gen, steps=dataset.test_steps)\n"
     ]
    },
    {
     "name": "stdout",
     "output_type": "stream",
     "text": [
      "Train MAE: 1.1759930518893058\n",
      "Test MAE: 2.0632403384029945\n",
      "Train MAPE: 6.020941887928432\n",
      "Test MAPE: 5.552495169053295\n"
     ]
    },
    {
     "data": {
      "image/png": "[encoded data removed]",
      "text/plain": [
       "<Figure size 640x480 with 1 Axes>"
      ]
     },
     "metadata": {},
     "output_type": "display_data"
    }
   ],
   "source": [
    "model_ann, history_ann = main('ANN')\n",
    "plotting(model_ann, history_ann, 40)"
   ]
  },
  {
   "cell_type": "code",
   "execution_count": 48,
   "metadata": {},
   "outputs": [
    {
     "name": "stderr",
     "output_type": "stream",
     "text": [
      "/var/folders/v9/bwnxmmgs13zd3yg44zhmyl5r0000gn/T/ipykernel_96967/4241187224.py:100: UserWarning: `Model.fit_generator` is deprecated and will be removed in a future version. Please use `Model.fit`, which supports generators.\n",
      "  history = model.fit_generator(dataset.train_gen, steps_per_epoch=500, epochs=epochs,\n"
     ]
    },
    {
     "name": "stdout",
     "output_type": "stream",
     "text": [
      "Epoch 1/40\n"
     ]
    },
    {
     "name": "stderr",
     "output_type": "stream",
     "text": [
      "2023-05-28 18:32:50.361759: I tensorflow/core/grappler/optimizers/custom_graph_optimizer_registry.cc:113] Plugin optimizer for device_type GPU is enabled.\n",
      "2023-05-28 18:32:50.530865: I tensorflow/core/grappler/optimizers/custom_graph_optimizer_registry.cc:113] Plugin optimizer for device_type GPU is enabled.\n",
      "2023-05-28 18:32:51.888034: I tensorflow/core/grappler/optimizers/custom_graph_optimizer_registry.cc:113] Plugin optimizer for device_type GPU is enabled.\n"
     ]
    },
    {
     "name": "stdout",
     "output_type": "stream",
     "text": [
      "500/500 [==============================] - ETA: 0s - loss: 0.3066"
     ]
    },
    {
     "name": "stderr",
     "output_type": "stream",
     "text": [
      "2023-05-28 18:34:05.627077: I tensorflow/core/grappler/optimizers/custom_graph_optimizer_registry.cc:113] Plugin optimizer for device_type GPU is enabled.\n",
      "2023-05-28 18:34:05.682059: I tensorflow/core/grappler/optimizers/custom_graph_optimizer_registry.cc:113] Plugin optimizer for device_type GPU is enabled.\n"
     ]
    },
    {
     "name": "stdout",
     "output_type": "stream",
     "text": [
      "500/500 [==============================] - 145s 277ms/step - loss: 0.3066 - val_loss: 0.2825\n",
      "Epoch 2/40\n",
      "500/500 [==============================] - 137s 275ms/step - loss: 0.2867 - val_loss: 0.2691\n",
      "Epoch 3/40\n",
      "500/500 [==============================] - 138s 277ms/step - loss: 0.2764 - val_loss: 0.2694\n",
      "Epoch 4/40\n",
      "500/500 [==============================] - 133s 267ms/step - loss: 0.2716 - val_loss: 0.2766\n",
      "Epoch 5/40\n",
      "500/500 [==============================] - 138s 276ms/step - loss: 0.2636 - val_loss: 0.2768\n",
      "Epoch 6/40\n",
      "500/500 [==============================] - 139s 279ms/step - loss: 0.2573 - val_loss: 0.2786\n",
      "Epoch 7/40\n",
      "500/500 [==============================] - 137s 275ms/step - loss: 0.2525 - val_loss: 0.2795\n",
      "Epoch 8/40\n",
      "500/500 [==============================] - 139s 278ms/step - loss: 0.2463 - val_loss: 0.2750\n",
      "Epoch 9/40\n",
      "500/500 [==============================] - 138s 277ms/step - loss: 0.2436 - val_loss: 0.2839\n",
      "Epoch 10/40\n",
      "500/500 [==============================] - 137s 274ms/step - loss: 0.2381 - val_loss: 0.2836\n",
      "Epoch 11/40\n",
      "500/500 [==============================] - 135s 271ms/step - loss: 0.2351 - val_loss: 0.2808\n",
      "Epoch 12/40\n",
      "500/500 [==============================] - 132s 264ms/step - loss: 0.2323 - val_loss: 0.2858\n",
      "Epoch 13/40\n",
      "500/500 [==============================] - 135s 271ms/step - loss: 0.2303 - val_loss: 0.2995\n",
      "Epoch 14/40\n",
      "500/500 [==============================] - 136s 271ms/step - loss: 0.2272 - val_loss: 0.2879\n",
      "Epoch 15/40\n",
      "500/500 [==============================] - 138s 277ms/step - loss: 0.2228 - val_loss: 0.2934\n",
      "Epoch 16/40\n",
      "500/500 [==============================] - 138s 276ms/step - loss: 0.2204 - val_loss: 0.2951\n",
      "Epoch 17/40\n",
      "500/500 [==============================] - 138s 277ms/step - loss: 0.2180 - val_loss: 0.3005\n",
      "Epoch 18/40\n",
      "500/500 [==============================] - 139s 279ms/step - loss: 0.2143 - val_loss: 0.2985\n",
      "Epoch 19/40\n",
      "500/500 [==============================] - 139s 279ms/step - loss: 0.2116 - val_loss: 0.3029\n",
      "Epoch 20/40\n",
      "500/500 [==============================] - 140s 280ms/step - loss: 0.2094 - val_loss: 0.3036\n",
      "Epoch 21/40\n",
      "500/500 [==============================] - 140s 280ms/step - loss: 0.2090 - val_loss: 0.2955\n",
      "Epoch 22/40\n",
      "500/500 [==============================] - 139s 278ms/step - loss: 0.2067 - val_loss: 0.3115\n",
      "Epoch 23/40\n",
      "500/500 [==============================] - 140s 280ms/step - loss: 0.2023 - val_loss: 0.3060\n",
      "Epoch 24/40\n",
      "500/500 [==============================] - 139s 278ms/step - loss: 0.2003 - val_loss: 0.3042\n",
      "Epoch 25/40\n",
      "500/500 [==============================] - 138s 277ms/step - loss: 0.1986 - val_loss: 0.3048\n",
      "Epoch 26/40\n",
      "500/500 [==============================] - 135s 270ms/step - loss: 0.1978 - val_loss: 0.3092\n",
      "Epoch 27/40\n",
      "500/500 [==============================] - 133s 266ms/step - loss: 0.1953 - val_loss: 0.3047\n",
      "Epoch 28/40\n",
      "500/500 [==============================] - 133s 265ms/step - loss: 0.1935 - val_loss: 0.3070\n",
      "Epoch 29/40\n",
      "500/500 [==============================] - 132s 265ms/step - loss: 0.1906 - val_loss: 0.3042\n",
      "Epoch 30/40\n",
      "500/500 [==============================] - 133s 266ms/step - loss: 0.1909 - val_loss: 0.3035\n",
      "Epoch 31/40\n",
      "500/500 [==============================] - 133s 266ms/step - loss: 0.1891 - val_loss: 0.3085\n",
      "Epoch 32/40\n",
      "500/500 [==============================] - 133s 267ms/step - loss: 0.1870 - val_loss: 0.3079\n",
      "Epoch 33/40\n",
      "500/500 [==============================] - 134s 268ms/step - loss: 0.1849 - val_loss: 0.3090\n",
      "Epoch 34/40\n",
      "500/500 [==============================] - 134s 267ms/step - loss: 0.1839 - val_loss: 0.3025\n",
      "Epoch 35/40\n",
      "500/500 [==============================] - 134s 267ms/step - loss: 0.1834 - val_loss: 0.3138\n",
      "Epoch 36/40\n",
      "500/500 [==============================] - 133s 267ms/step - loss: 0.1814 - val_loss: 0.3150\n",
      "Epoch 37/40\n",
      "500/500 [==============================] - 133s 267ms/step - loss: 0.1795 - val_loss: 0.3109\n",
      "Epoch 38/40\n",
      "500/500 [==============================] - 133s 266ms/step - loss: 0.1784 - val_loss: 0.3093\n",
      "Epoch 39/40\n",
      "500/500 [==============================] - 133s 266ms/step - loss: 0.1788 - val_loss: 0.3101\n",
      "Epoch 40/40\n",
      "500/500 [==============================] - 133s 266ms/step - loss: 0.1756 - val_loss: 0.3058\n",
      "Model: \"sequential_10\"\n",
      "_________________________________________________________________\n",
      " Layer (type)                Output Shape              Param #   \n",
      "=================================================================\n",
      " lstm (LSTM)                 (None, 32)                6016      \n",
      "                                                                 \n",
      " dense_20 (Dense)            (None, 1)                 33        \n",
      "                                                                 \n",
      "=================================================================\n",
      "Total params: 6,049\n",
      "Trainable params: 6,049\n",
      "Non-trainable params: 0\n",
      "_________________________________________________________________\n"
     ]
    },
    {
     "name": "stderr",
     "output_type": "stream",
     "text": [
      "/var/folders/v9/bwnxmmgs13zd3yg44zhmyl5r0000gn/T/ipykernel_96967/4241187224.py:104: UserWarning: `Model.evaluate_generator` is deprecated and will be removed in a future version. Please use `Model.evaluate`, which supports generators.\n",
      "  train_loss = model.evaluate_generator(dataset.train_gen, steps=dataset.val_steps)\n",
      "/var/folders/v9/bwnxmmgs13zd3yg44zhmyl5r0000gn/T/ipykernel_96967/4241187224.py:105: UserWarning: `Model.evaluate_generator` is deprecated and will be removed in a future version. Please use `Model.evaluate`, which supports generators.\n",
      "  test_loss = model.evaluate_generator(dataset.test_gen, steps=dataset.test_steps)\n"
     ]
    },
    {
     "name": "stdout",
     "output_type": "stream",
     "text": [
      "train_loss:  0.1757931262254715\n",
      "test_loss:  0.33685439825057983\n"
     ]
    },
    {
     "name": "stderr",
     "output_type": "stream",
     "text": [
      "/var/folders/v9/bwnxmmgs13zd3yg44zhmyl5r0000gn/T/ipykernel_96967/4241187224.py:110: UserWarning: `Model.predict_generator` is deprecated and will be removed in a future version. Please use `Model.predict`, which supports generators.\n",
      "  train_predictions = model.predict_generator(dataset.train_gen, steps=dataset.train_steps)\n",
      "2023-05-28 20:05:55.342592: I tensorflow/core/grappler/optimizers/custom_graph_optimizer_registry.cc:113] Plugin optimizer for device_type GPU is enabled.\n",
      "2023-05-28 20:05:55.414428: I tensorflow/core/grappler/optimizers/custom_graph_optimizer_registry.cc:113] Plugin optimizer for device_type GPU is enabled.\n",
      "/var/folders/v9/bwnxmmgs13zd3yg44zhmyl5r0000gn/T/ipykernel_96967/4241187224.py:111: UserWarning: `Model.predict_generator` is deprecated and will be removed in a future version. Please use `Model.predict`, which supports generators.\n",
      "  test_predictions = model.predict_generator(dataset.test_gen, steps=dataset.test_steps)\n"
     ]
    },
    {
     "name": "stdout",
     "output_type": "stream",
     "text": [
      "Train MAE: 1.1009194748509297\n",
      "Test MAE: 0.5149458372005856\n",
      "Train MAPE: 5.322432715480808\n",
      "Test MAPE: 3.0655994488239453\n"
     ]
    },
    {
     "data": {
      "image/png": "[encoded data removed]",
      "text/plain": [
       "<Figure size 640x480 with 1 Axes>"
      ]
     },
     "metadata": {},
     "output_type": "display_data"
    }
   ],
   "source": [
    "model_lstm, history_lstm = main('LSTM')\n",
    "plotting(model_lstm, history_lstm, 40)"
   ]
  }
 ],
 "metadata": {
  "kernelspec": {
   "display_name": "tf",
   "language": "python",
   "name": "python3"
  },
  "language_info": {
   "codemirror_mode": {
    "name": "ipython",
    "version": 3
   },
   "file_extension": ".py",
   "mimetype": "text/x-python",
   "name": "python",
   "nbconvert_exporter": "python",
   "pygments_lexer": "ipython3",
   "version": "3.8.16"
  },
  "orig_nbformat": 4
 },
 "nbformat": 4,
 "nbformat_minor": 2
}
